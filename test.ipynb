{
 "cells": [
  {
   "cell_type": "code",
   "execution_count": 1,
   "metadata": {},
   "outputs": [
    {
     "name": "stdout",
     "output_type": "stream",
     "text": [
      "2\n"
     ]
    }
   ],
   "source": [
    "foo = [1,2,3,4,5]\n",
    "print(foo[1])"
   ]
  },
  {
   "cell_type": "code",
   "execution_count": 14,
   "metadata": {},
   "outputs": [
    {
     "data": {
      "text/plain": [
       "[]"
      ]
     },
     "execution_count": 14,
     "metadata": {},
     "output_type": "execute_result"
    }
   ],
   "source": [
    "from datetime import datetime\n",
    "foo = ['2022.12.31.', '2022.12.31.', '2022.12.31.', 'A23면 TOP', '2022.12.31.', 'A22면 1단', '2022.12.31.', 'A4면 TOP', '2022.12.30.', 'A21면 1단', '2022.12.30.', 'A17면 1단', '2022.12.30.', '2022.12.30.', 'A9면 TOP', '2022.12.30.'] \n",
    "foo = ['2022.12.31.', '2022.12.31.']\n",
    "\n",
    "result = []\n",
    "for elem in foo:\n",
    "    if len(elem) == 11: result.append(elem)\n",
    "\n",
    "result\n",
    "\n"
   ]
  },
  {
   "cell_type": "code",
   "execution_count": null,
   "metadata": {},
   "outputs": [],
   "source": []
  }
 ],
 "metadata": {
  "kernelspec": {
   "display_name": ".venv",
   "language": "python",
   "name": "python3"
  },
  "language_info": {
   "codemirror_mode": {
    "name": "ipython",
    "version": 3
   },
   "file_extension": ".py",
   "mimetype": "text/x-python",
   "name": "python",
   "nbconvert_exporter": "python",
   "pygments_lexer": "ipython3",
   "version": "3.9.6"
  },
  "orig_nbformat": 4
 },
 "nbformat": 4,
 "nbformat_minor": 2
}
