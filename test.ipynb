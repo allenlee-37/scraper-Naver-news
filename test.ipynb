{
 "cells": [
  {
   "cell_type": "code",
   "execution_count": 1,
   "metadata": {},
   "outputs": [
    {
     "name": "stdout",
     "output_type": "stream",
     "text": [
      "2\n"
     ]
    }
   ],
   "source": [
    "foo = [1,2,3,4,5]\n",
    "print(foo[1])"
   ]
  },
  {
   "cell_type": "code",
   "execution_count": 16,
   "metadata": {},
   "outputs": [
    {
     "data": {
      "text/plain": [
       "['2022.12.31.',\n",
       " '2022.12.31.',\n",
       " '2022.12.31.',\n",
       " '2022.12.31.',\n",
       " '2022.12.31.',\n",
       " '2022.12.30.',\n",
       " '2022.12.30.',\n",
       " '2022.12.30.',\n",
       " '2022.12.30.',\n",
       " '2022.12.30.']"
      ]
     },
     "execution_count": 16,
     "metadata": {},
     "output_type": "execute_result"
    }
   ],
   "source": [
    "from datetime import datetime\n",
    "foo = ['2022.12.31.', '2022.12.31.', '2022.12.31.', 'A23면 TOP', '2022.12.31.', 'A22면 1단', '2022.12.31.', 'A4면 TOP', '2022.12.30.', 'A21면 1단', '2022.12.30.', 'A17면 1단', '2022.12.30.', '2022.12.30.', 'A9면 TOP', '2022.12.30.'] \n",
    "\n",
    "result = []\n",
    "for elem in foo:\n",
    "    if len(elem) == 11: result.append(elem)\n",
    "\n",
    "result\n",
    "\n"
   ]
  },
  {
   "cell_type": "code",
   "execution_count": null,
   "metadata": {},
   "outputs": [],
   "source": [
    "raw_data = [1,2,3,4,5,6,7]\n",
    "for elem in len(raw_data):\n",
    "    if raw_data[elem] == 1: \n",
    "        print(ok)\n",
    "    else: pass\n",
    "\n"
   ]
  }
 ],
 "metadata": {
  "kernelspec": {
   "display_name": ".venv",
   "language": "python",
   "name": "python3"
  },
  "language_info": {
   "codemirror_mode": {
    "name": "ipython",
    "version": 3
   },
   "file_extension": ".py",
   "mimetype": "text/x-python",
   "name": "python",
   "nbconvert_exporter": "python",
   "pygments_lexer": "ipython3",
   "version": "3.9.6"
  },
  "orig_nbformat": 4
 },
 "nbformat": 4,
 "nbformat_minor": 2
}
